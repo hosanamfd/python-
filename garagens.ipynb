{
  "nbformat": 4,
  "nbformat_minor": 0,
  "metadata": {
    "colab": {
      "provenance": [],
      "authorship_tag": "ABX9TyO6BwdIYdYYzh47KdgGyI2e",
      "include_colab_link": true
    },
    "kernelspec": {
      "name": "python3",
      "display_name": "Python 3"
    },
    "language_info": {
      "name": "python"
    }
  },
  "cells": [
    {
      "cell_type": "markdown",
      "metadata": {
        "id": "view-in-github",
        "colab_type": "text"
      },
      "source": [
        "<a href=\"https://colab.research.google.com/github/hosanamfd/python-/blob/notebooks/garagens.ipynb\" target=\"_parent\"><img src=\"https://colab.research.google.com/assets/colab-badge.svg\" alt=\"Open In Colab\"/></a>"
      ]
    },
    {
      "cell_type": "code",
      "execution_count": null,
      "metadata": {
        "colab": {
          "base_uri": "https://localhost:8080/"
        },
        "id": "Q7N7RUXTixOu",
        "outputId": "dd930d53-12f9-4abd-89e0-596955e532d7"
      },
      "outputs": [
        {
          "output_type": "stream",
          "name": "stdout",
          "text": [
            "O apartamento 02A ficou com a vaga 20\n",
            "O apartamento 03A ficou com a vaga 18\n",
            "O apartamento 04A ficou com a vaga 46\n",
            "O apartamento 12A ficou com a vaga 16\n",
            "O apartamento 14A ficou com a vaga 22\n",
            "O apartamento 15A ficou com a vaga 44\n",
            "O apartamento 21A ficou com a vaga 39\n",
            "O apartamento 22A ficou com a vaga 17\n",
            "O apartamento 23A ficou com a vaga 48\n",
            "O apartamento 24A ficou com a vaga 42\n",
            "O apartamento 31A ficou com a vaga 43\n",
            "O apartamento 32A ficou com a vaga 49\n",
            "O apartamento 33A ficou com a vaga 47\n",
            "O apartamento 34A ficou com a vaga 25\n",
            "O apartamento 41A ficou com a vaga 21\n",
            "O apartamento 42A ficou com a vaga 50\n",
            "O apartamento 43A ficou com a vaga 41\n",
            "O apartamento 44A ficou com a vaga 45\n",
            "O apartamento 51A ficou com a vaga 12\n",
            "O apartamento 52A ficou com a vaga 14\n",
            "O apartamento 53A ficou com a vaga 40\n",
            "O apartamento 54A ficou com a vaga 19\n",
            "O apartamento 62A ficou com a vaga 51\n",
            "O apartamento 63A ficou com a vaga 24\n",
            "O apartamento 64A ficou com a vaga 15\n"
          ]
        }
      ],
      "source": [
        "import random\n",
        "\n",
        "def sortear_vagas(apartamentos, vagas):\n",
        "\n",
        "    random.shuffle(vagas)\n",
        "\n",
        "    sorteio = {}\n",
        "\n",
        "    for i in range(len(apartamentos)):\n",
        "        sorteio[apartamentos[i]] = vagas[i]\n",
        "\n",
        "    return sorteio\n",
        "\n",
        "apartamentos_bloco_A = ['02A', '03A', '04A', '12A', '14A', '15A', '21A', '22A', '23A', '24A', '31A', '32A', '33A', '34A', '41A', '42A', '43A', '44A', '51A', '52A', '53A', '54A', '62A', '63A', '64A']\n",
        "\n",
        "vagas_subsolo_A = ['39', '40', '41', '42', '43', '44', '45', '46', '47', '48', '49', '50', '51', '12', '15', '14', '16', '17', '18', '19', '20', '21', '22', '24', '25']\n",
        "\n",
        "sorteio_A = sortear_vagas(apartamentos_bloco_A, vagas_subsolo_A)\n",
        "\n",
        "for apartamento, vaga in sorteio_A.items():\n",
        "    print(f'O apartamento {apartamento} ficou com a vaga {vaga}')\n",
        "\n"
      ]
    },
    {
      "cell_type": "code",
      "source": [],
      "metadata": {
        "id": "GcE6YRBNk93U"
      },
      "execution_count": null,
      "outputs": []
    },
    {
      "cell_type": "code",
      "source": [],
      "metadata": {
        "id": "vk2ctFDxk9Re"
      },
      "execution_count": null,
      "outputs": []
    },
    {
      "cell_type": "code",
      "source": [],
      "metadata": {
        "id": "EUH-DPJ3kON_"
      },
      "execution_count": null,
      "outputs": []
    }
  ]
}