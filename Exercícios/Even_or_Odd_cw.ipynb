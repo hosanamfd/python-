{
  "nbformat": 4,
  "nbformat_minor": 0,
  "metadata": {
    "colab": {
      "provenance": []
    },
    "kernelspec": {
      "name": "python3",
      "display_name": "Python 3"
    },
    "language_info": {
      "name": "python"
    }
  },
  "cells": [
    {
      "cell_type": "code",
      "source": [
        "#Create a function that takes an integer as an argument and returns \"Even\" for even numbers or \"Odd\" for odd numbers.\n",
        "\n",
        "def even_or_odd(number):\n",
        "    if number % 2 ==0 :\n",
        "        return 'even'\n",
        "    else:\n",
        "        return 'odd'\n"
      ],
      "metadata": {
        "id": "B3fNOsvWz22k",
        "colab": {
          "base_uri": "https://localhost:8080/",
          "height": 35
        },
        "outputId": "cd730a48-235b-4b16-a3aa-0869b17dac50"
      },
      "execution_count": null,
      "outputs": [
        {
          "output_type": "execute_result",
          "data": {
            "text/plain": [
              "'odd'"
            ],
            "application/vnd.google.colaboratory.intrinsic+json": {
              "type": "string"
            }
          },
          "metadata": {},
          "execution_count": 7
        }
      ]
    }
  ]
}