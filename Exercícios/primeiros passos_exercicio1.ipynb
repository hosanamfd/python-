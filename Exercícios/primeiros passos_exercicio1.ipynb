{
  "nbformat": 4,
  "nbformat_minor": 0,
  "metadata": {
    "colab": {
      "provenance": []
    },
    "kernelspec": {
      "name": "python3",
      "display_name": "Python 3"
    },
    "language_info": {
      "name": "python"
    }
  },
  "cells": [
    {
      "cell_type": "markdown",
      "source": [
        "exercicio envolvendo if else, loops op matematicas e listas\n"
      ],
      "metadata": {
        "id": "hyYxckDW3Wna"
      }
    },
    {
      "cell_type": "code",
      "source": [
        "#criar um algoritmo que leia 5 notas de alunos e mostre se esta aprovado, recuperacao ou reprovado e a media da turma\n",
        "\n",
        "notasAlunos =[\n",
        "   float(input('digite a nota do aluno 1: ')),\n",
        "   float(input('digite a nota do aluno 2: ')),\n",
        "   float(input('digite a nota do aluno 3: ')),\n",
        "   float(input('digite a nota do aluno 4: ')),\n",
        "   float(input('digite a nota do aluno 5: ')),\n",
        "]\n",
        "print(notasAlunos)"
      ],
      "metadata": {
        "colab": {
          "base_uri": "https://localhost:8080/"
        },
        "id": "1ZE3rlu0xd-u",
        "outputId": "498403e7-a5bd-47cf-8507-9fe0beb96ea8"
      },
      "execution_count": null,
      "outputs": [
        {
          "output_type": "stream",
          "name": "stdout",
          "text": [
            "digite a nota do aluno 1: 8\n",
            "digite a nota do aluno 2: 3\n",
            "digite a nota do aluno 3: 4\n",
            "digite a nota do aluno 4: 2\n",
            "digite a nota do aluno 5: 9\n",
            "[8.0, 3.0, 4.0, 2.0, 9.0]\n"
          ]
        }
      ]
    },
    {
      "cell_type": "code",
      "source": [
        "for nota in notasAlunos:\n",
        "  if nota >= 7:\n",
        "    print (f'nota {nota} aprovado') #f depois do print é um f-string que permite escrever variaveis dentro de uma string sem usar o +\n",
        "  elif nota >= 5 and nota <7:\n",
        "     print (f'nota {nota} recuperacao')\n",
        "  else:\n",
        "     print (f'nota {nota} reprovado')\n"
      ],
      "metadata": {
        "colab": {
          "base_uri": "https://localhost:8080/"
        },
        "id": "dJ7BKINGzS1J",
        "outputId": "cb01780b-5ad6-4007-dc17-e073ce36aa5f"
      },
      "execution_count": null,
      "outputs": [
        {
          "output_type": "stream",
          "name": "stdout",
          "text": [
            "nota 8.0 aprovado\n",
            "nota 3.0 reprovado\n",
            "nota 4.0 reprovado\n",
            "nota 2.0 reprovado\n",
            "nota 9.0 aprovado\n"
          ]
        }
      ]
    },
    {
      "cell_type": "code",
      "source": [
        "media = sum(notasAlunos) / len(notasAlunos)   #sum soma todos os elementos da lista e len conta quantos elementos tem na lista\n",
        "\n",
        "print(f'a media da turma é {media}')"
      ],
      "metadata": {
        "colab": {
          "base_uri": "https://localhost:8080/"
        },
        "id": "tMpLYofD0uJN",
        "outputId": "2953a45a-1cc7-41e7-a90a-683d17461633"
      },
      "execution_count": null,
      "outputs": [
        {
          "output_type": "stream",
          "name": "stdout",
          "text": [
            "a media da turma é 5.2\n"
          ]
        }
      ]
    },
    {
      "cell_type": "code",
      "source": [],
      "metadata": {
        "id": "Y8foG0UuKykn"
      },
      "execution_count": null,
      "outputs": []
    }
  ]
}