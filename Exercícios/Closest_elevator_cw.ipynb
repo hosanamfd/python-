{
  "nbformat": 4,
  "nbformat_minor": 0,
  "metadata": {
    "colab": {
      "provenance": []
    },
    "kernelspec": {
      "name": "python3",
      "display_name": "Python 3"
    },
    "language_info": {
      "name": "python"
    }
  },
  "cells": [
    {
      "cell_type": "code",
      "source": [
        "#Given 2 elevators (named \"left\" and \"right\") in a building with 3 floors (numbered 0 to 2), write a function accepting 3 arguments (in order):\n",
        "\n",
        "#left - The current floor of the left elevator\n",
        "#call - The floor that called an elevator\n",
        "#It should return the name of the elevator closest to the called floor (\"left\"/\"right\").\n",
        "\n",
        "#In the case where both elevators are equally distant from the called floor, choose the elevator to the right.\n",
        "\n",
        "#You can assume that the inputs will always be valid integers between 0-2.\n",
        "\n",
        "\n",
        "def elevator(left, right, call):\n",
        "    left_distance = abs(left - call)\n",
        "    right_distance = abs(right - call)\n",
        "\n",
        "    if left_distance < right_distance:\n",
        "        return 'left'\n",
        "    elif right_distance < left_distance:\n",
        "        return 'right'\n",
        "    else:\n",
        "        return 'right'\n"
      ],
      "metadata": {
        "id": "rz83sl-00wsR"
      },
      "execution_count": null,
      "outputs": []
    }
  ]
}