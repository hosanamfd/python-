{
  "nbformat": 4,
  "nbformat_minor": 0,
  "metadata": {
    "colab": {
      "provenance": []
    },
    "kernelspec": {
      "name": "python3",
      "display_name": "Python 3"
    },
    "language_info": {
      "name": "python"
    }
  },
  "cells": [
    {
      "cell_type": "code",
      "execution_count": null,
      "metadata": {
        "colab": {
          "base_uri": "https://localhost:8080/"
        },
        "id": "UDDW_KuJOi4B",
        "outputId": "334fd39c-4e80-4650-8e5d-5691c531b488"
      },
      "outputs": [
        {
          "output_type": "stream",
          "name": "stdout",
          "text": [
            "olá mundo\n"
          ]
        }
      ],
      "source": [
        "print('olá mundo')"
      ]
    },
    {
      "cell_type": "code",
      "source": [
        "nome = 'Hosana'\n",
        "idade = 17\n",
        "altura = 1.75\n",
        "#para escrever numeros com virgula usar o ponto , nao a virgula\n",
        "\n",
        "print(nome, idade, altura )"
      ],
      "metadata": {
        "colab": {
          "base_uri": "https://localhost:8080/"
        },
        "id": "maHo4DKrQVt3",
        "outputId": "d568d90b-7d83-4862-a79b-72a94a702431"
      },
      "execution_count": null,
      "outputs": [
        {
          "output_type": "stream",
          "name": "stdout",
          "text": [
            "Hosana 17 1.75\n"
          ]
        }
      ]
    },
    {
      "cell_type": "code",
      "source": [
        "nome = input('digite seu nome: ')\n",
        "idade = input('digite sua idade: ')\n",
        "altura = float(input('digite sua altura: '))\n",
        "#float transforma em decimal\n",
        "\n",
        "print(nome, idade, altura)"
      ],
      "metadata": {
        "id": "GuRpki-obAe2",
        "colab": {
          "base_uri": "https://localhost:8080/"
        },
        "outputId": "897b70c0-db4f-4fba-8f5b-3f31578e8f1b"
      },
      "execution_count": null,
      "outputs": [
        {
          "output_type": "stream",
          "name": "stdout",
          "text": [
            "digite seu nome: Hosana\n",
            "digite sua idade: 17\n",
            "digite sua altura: 1.75\n",
            "Hosana 17 1.75\n"
          ]
        }
      ]
    },
    {
      "cell_type": "code",
      "source": [
        "a = 10\n",
        "b = 5\n",
        "\n",
        "soma = a + b\n",
        "subtrção = a - b\n",
        "mutiplicação = a * b\n",
        "divisão = a / b\n",
        "restoDivisão = a % b\n",
        "potencia = 10 **5\n",
        "\n",
        "print(soma, subtrção, mutiplicação, divisão, restoDivisão, potencia\n",
        "      )"
      ],
      "metadata": {
        "colab": {
          "base_uri": "https://localhost:8080/"
        },
        "id": "irGQQv1rQcf9",
        "outputId": "51d7b897-ee08-4d9c-a337-575038b5c343"
      },
      "execution_count": null,
      "outputs": [
        {
          "output_type": "stream",
          "name": "stdout",
          "text": [
            "15 5 50 2.0 0 100000\n"
          ]
        }
      ]
    },
    {
      "cell_type": "code",
      "source": [
        "idade = 17\n",
        "if idade >= 18:\n",
        "   print('acesso liberado')\n",
        "else:\n",
        "   print('acesso negado')\n",
        "   #if executa se a condicao for verdadeira\n",
        "   #else executa se a condicao for falsa"
      ],
      "metadata": {
        "colab": {
          "base_uri": "https://localhost:8080/"
        },
        "id": "07gx8TZLRK8n",
        "outputId": "c9c273fd-e67f-4c86-d05d-b4dab7957e55"
      },
      "execution_count": null,
      "outputs": [
        {
          "output_type": "stream",
          "name": "stdout",
          "text": [
            "acesso negado\n"
          ]
        }
      ]
    },
    {
      "cell_type": "code",
      "source": [
        "#for percorre uma sequencia de elementos, tanto listas int floats e strings\n",
        "for i in range(1 , 11): #vai de'1' a '10'\n",
        "    print(i)\n",
        "    #range cria uma sequencia de numeros\n",
        "\n",
        "    frutas = ['banana', 'maca', 'laranja', 'uva']\n",
        "\n",
        "for fruta in frutas:\n",
        "    print('eu gosto de', fruta)"
      ],
      "metadata": {
        "colab": {
          "base_uri": "https://localhost:8080/"
        },
        "id": "uspZv8p9vq8d",
        "outputId": "ce2c4c2d-7604-4567-9e74-fbd3750a4e2f"
      },
      "execution_count": null,
      "outputs": [
        {
          "output_type": "stream",
          "name": "stdout",
          "text": [
            "1\n",
            "2\n",
            "3\n",
            "4\n",
            "5\n",
            "6\n",
            "7\n",
            "8\n",
            "9\n",
            "10\n",
            "eu gosto de banana\n",
            "eu gosto de maca\n",
            "eu gosto de laranja\n",
            "eu gosto de uva\n"
          ]
        }
      ]
    },
    {
      "cell_type": "code",
      "source": [
        "#while executa enquanto a condicao for verdadeira\n",
        "i = 1\n",
        "while i <= 10:\n",
        "    print(i)\n",
        "    i += 1 #   i += 1 significa i = i + 1\n",
        "\n",
        "print('fim do loop')"
      ],
      "metadata": {
        "colab": {
          "base_uri": "https://localhost:8080/"
        },
        "id": "mXLxPrcNvyqF",
        "outputId": "7c2519b5-9e47-4898-8934-c25312dfb693"
      },
      "execution_count": null,
      "outputs": [
        {
          "output_type": "stream",
          "name": "stdout",
          "text": [
            "1\n",
            "2\n",
            "3\n",
            "4\n",
            "5\n",
            "6\n",
            "7\n",
            "8\n",
            "9\n",
            "10\n",
            "fim do loop\n"
          ]
        }
      ]
    },
    {
      "cell_type": "markdown",
      "source": [
        "exercicio envolvendo if else, loops op matematicas e listas\n"
      ],
      "metadata": {
        "id": "hyYxckDW3Wna"
      }
    },
    {
      "cell_type": "code",
      "source": [
        "#criar um algoritmo que leia 5 notas de alunos e mostre se esta aprovado, recuperacao ou reprovado e a media da turma\n",
        "\n",
        "notasAlunos =[\n",
        "   float(input('digite a nota do aluno 1: ')),\n",
        "   float(input('digite a nota do aluno 2: ')),\n",
        "   float(input('digite a nota do aluno 3: ')),\n",
        "   float(input('digite a nota do aluno 4: ')),\n",
        "   float(input('digite a nota do aluno 5: ')),\n",
        "]\n",
        "print(notasAlunos)"
      ],
      "metadata": {
        "colab": {
          "base_uri": "https://localhost:8080/"
        },
        "id": "1ZE3rlu0xd-u",
        "outputId": "498403e7-a5bd-47cf-8507-9fe0beb96ea8"
      },
      "execution_count": null,
      "outputs": [
        {
          "output_type": "stream",
          "name": "stdout",
          "text": [
            "digite a nota do aluno 1: 8\n",
            "digite a nota do aluno 2: 3\n",
            "digite a nota do aluno 3: 4\n",
            "digite a nota do aluno 4: 2\n",
            "digite a nota do aluno 5: 9\n",
            "[8.0, 3.0, 4.0, 2.0, 9.0]\n"
          ]
        }
      ]
    },
    {
      "cell_type": "code",
      "source": [
        "for nota in notasAlunos:\n",
        "  if nota >= 7:\n",
        "    print (f'nota {nota} aprovado') #f depois do print é um f-string que permite escrever variaveis dentro de uma string sem usar o +\n",
        "  elif nota >= 5 and nota <7:\n",
        "     print (f'nota {nota} recuperacao')\n",
        "  else:\n",
        "     print (f'nota {nota} reprovado')\n"
      ],
      "metadata": {
        "colab": {
          "base_uri": "https://localhost:8080/"
        },
        "id": "dJ7BKINGzS1J",
        "outputId": "cb01780b-5ad6-4007-dc17-e073ce36aa5f"
      },
      "execution_count": null,
      "outputs": [
        {
          "output_type": "stream",
          "name": "stdout",
          "text": [
            "nota 8.0 aprovado\n",
            "nota 3.0 reprovado\n",
            "nota 4.0 reprovado\n",
            "nota 2.0 reprovado\n",
            "nota 9.0 aprovado\n"
          ]
        }
      ]
    },
    {
      "cell_type": "code",
      "source": [
        "media = sum(notasAlunos) / len(notasAlunos)   #sum soma todos os elementos da lista e len conta quantos elementos tem na lista\n",
        "\n",
        "print(f'a media da turma é {media}')"
      ],
      "metadata": {
        "colab": {
          "base_uri": "https://localhost:8080/"
        },
        "id": "tMpLYofD0uJN",
        "outputId": "2953a45a-1cc7-41e7-a90a-683d17461633"
      },
      "execution_count": null,
      "outputs": [
        {
          "output_type": "stream",
          "name": "stdout",
          "text": [
            "a media da turma é 5.2\n"
          ]
        }
      ]
    },
    {
      "cell_type": "code",
      "source": [],
      "metadata": {
        "id": "Y8foG0UuKykn"
      },
      "execution_count": null,
      "outputs": []
    }
  ]
}