{
  "nbformat": 4,
  "nbformat_minor": 0,
  "metadata": {
    "colab": {
      "provenance": []
    },
    "kernelspec": {
      "name": "python3",
      "display_name": "Python 3"
    },
    "language_info": {
      "name": "python"
    }
  },
  "cells": [
    {
      "cell_type": "markdown",
      "source": [
        "### funções"
      ],
      "metadata": {
        "id": "vfuYwBFBwBkT"
      }
    },
    {
      "cell_type": "code",
      "source": [
        "# uma função é um bloco de codigo reutilizável que realiza uma tarefa específica uma função é util pois evita repetição de codigo e torna o codigo mais legivel e reutilizavel"
      ],
      "metadata": {
        "id": "FksCLuRMwIoH"
      },
      "execution_count": null,
      "outputs": []
    },
    {
      "cell_type": "code",
      "source": [
        "# a estrutura de uma funcao é:\n",
        "    nome_funcao(parametros):\n",
        "      corpo da funcao\n",
        "\n"
      ],
      "metadata": {
        "id": "dEq1N6b3x71Y"
      },
      "execution_count": null,
      "outputs": []
    },
    {
      "cell_type": "code",
      "source": [
        "# Para definir uma função utilizamos a palavra reservada def\n",
        "def diga_oi():\n",
        "    print('oi')\n",
        "\n",
        "diga_oi()\n"
      ],
      "metadata": {
        "colab": {
          "base_uri": "https://localhost:8080/"
        },
        "id": "XI6oEyN3ywAG",
        "outputId": "e06db0d6-7c80-40c6-8c26-cdf3391e3c87"
      },
      "execution_count": null,
      "outputs": [
        {
          "output_type": "stream",
          "name": "stdout",
          "text": [
            "oi\n"
          ]
        }
      ]
    },
    {
      "cell_type": "code",
      "source": [
        "#funçao com parametros\n",
        "# parametros são variaveis como o x na matematica, quando chama-mos a função novamaente dizemos quais os valores(arqumentos) que substituirão esse parametro\n",
        "\n",
        "def soma_numeros(num1, num2):\n",
        "    return num1 + num2\n",
        "\n",
        "soma_numeros(10, 10)"
      ],
      "metadata": {
        "colab": {
          "base_uri": "https://localhost:8080/"
        },
        "id": "wi8ODX20zCxA",
        "outputId": "d2e28b09-e22f-4b7b-fefb-a7f610899ade"
      },
      "execution_count": null,
      "outputs": [
        {
          "output_type": "execute_result",
          "data": {
            "text/plain": [
              "20"
            ]
          },
          "metadata": {},
          "execution_count": 1
        }
      ]
    }
  ]
}